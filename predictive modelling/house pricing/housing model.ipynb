{
 "cells": [
  {
   "cell_type": "code",
   "id": "initial_id",
   "metadata": {
    "collapsed": true,
    "ExecuteTime": {
     "end_time": "2025-05-06T20:12:06.590575Z",
     "start_time": "2025-05-06T20:12:06.574628Z"
    }
   },
   "source": [
    "from sklearn.metrics.pairwise import rbf_kernel\n",
    "\n",
    "from preprocessing import numeric_pipeline, cat_pipe\n",
    "from pathlib import Path\n",
    "import pandas as pd\n",
    "from sklearn.model_selection import train_test_split\n",
    "\n",
    "housing_data = pd.read_csv(Path('datasets/housing/housing.csv'))"
   ],
   "outputs": [],
   "execution_count": 59
  },
  {
   "metadata": {
    "ExecuteTime": {
     "end_time": "2025-05-06T20:12:06.598083Z",
     "start_time": "2025-05-06T20:12:06.593578Z"
    }
   },
   "cell_type": "code",
   "source": "housing_data.dropna(inplace=True)",
   "id": "54253cdb60775996",
   "outputs": [],
   "execution_count": 60
  },
  {
   "metadata": {
    "ExecuteTime": {
     "end_time": "2025-05-06T20:12:06.630846Z",
     "start_time": "2025-05-06T20:12:06.621757Z"
    }
   },
   "cell_type": "code",
   "source": [
    "housing_data['income_cat'] = pd.cut(housing_data['median_income'],\n",
    "                                    bins=[0., 1.5, 3.0, 4.5, 6., np.inf],\n",
    "                                    labels=[1,2,3,4,5]\n",
    "                                    )\n",
    "\n",
    "test, train = train_test_split(housing_data, test_size=0.2,\n",
    "                               stratify=housing_data['income_cat'],\n",
    "                               random_state=42)"
   ],
   "id": "ce1dff351dcc26b4",
   "outputs": [],
   "execution_count": 61
  },
  {
   "metadata": {
    "ExecuteTime": {
     "end_time": "2025-05-06T20:12:06.655403Z",
     "start_time": "2025-05-06T20:12:06.651964Z"
    }
   },
   "cell_type": "code",
   "source": [
    "learning_house_data = train.drop('median_house_value', axis=1)\n",
    "labels = train['median_house_value'].copy()"
   ],
   "id": "275f954bb1cea3d6",
   "outputs": [],
   "execution_count": 62
  },
  {
   "metadata": {
    "ExecuteTime": {
     "end_time": "2025-05-06T20:12:06.684286Z",
     "start_time": "2025-05-06T20:12:06.678339Z"
    }
   },
   "cell_type": "code",
   "source": [
    "from sklearn.preprocessing import OrdinalEncoder\n",
    "house_categorys = housing_data[['ocean_proximity']]\n",
    "\n",
    "ordinal_encoder = OrdinalEncoder()\n",
    "encoded_categorys = ordinal_encoder.fit_transform(house_categorys)\n",
    "encoded_categorys"
   ],
   "id": "5d20e3c43694d291",
   "outputs": [
    {
     "data": {
      "text/plain": [
       "array([[3.],\n",
       "       [3.],\n",
       "       [3.],\n",
       "       ...,\n",
       "       [1.],\n",
       "       [1.],\n",
       "       [1.]])"
      ]
     },
     "execution_count": 63,
     "metadata": {},
     "output_type": "execute_result"
    }
   ],
   "execution_count": 63
  },
  {
   "metadata": {
    "ExecuteTime": {
     "end_time": "2025-05-06T20:12:06.710428Z",
     "start_time": "2025-05-06T20:12:06.707983Z"
    }
   },
   "cell_type": "code",
   "source": [
    "df_test_encoded = pd.DataFrame({\n",
    "    'ocean_proximity': [\n",
    "        '<1H OCEAN',\n",
    "        'ISLAND',\n",
    "        'NEAR OCEAN',\n",
    "        'NEAR BAY',\n",
    "        'INLAND'\n",
    "    ]\n",
    "})\n"
   ],
   "id": "a766b2d453a1f1b2",
   "outputs": [],
   "execution_count": 64
  },
  {
   "metadata": {
    "ExecuteTime": {
     "end_time": "2025-05-06T20:12:06.737224Z",
     "start_time": "2025-05-06T20:12:06.732651Z"
    }
   },
   "cell_type": "code",
   "source": [
    "df_out = pd.DataFrame(ordinal_encoder.transform(df_test_encoded))\n",
    "df_out"
   ],
   "id": "7d8f68774a8c949b",
   "outputs": [
    {
     "data": {
      "text/plain": [
       "     0\n",
       "0  0.0\n",
       "1  2.0\n",
       "2  4.0\n",
       "3  3.0\n",
       "4  1.0"
      ],
      "text/html": [
       "<div>\n",
       "<style scoped>\n",
       "    .dataframe tbody tr th:only-of-type {\n",
       "        vertical-align: middle;\n",
       "    }\n",
       "\n",
       "    .dataframe tbody tr th {\n",
       "        vertical-align: top;\n",
       "    }\n",
       "\n",
       "    .dataframe thead th {\n",
       "        text-align: right;\n",
       "    }\n",
       "</style>\n",
       "<table border=\"1\" class=\"dataframe\">\n",
       "  <thead>\n",
       "    <tr style=\"text-align: right;\">\n",
       "      <th></th>\n",
       "      <th>0</th>\n",
       "    </tr>\n",
       "  </thead>\n",
       "  <tbody>\n",
       "    <tr>\n",
       "      <th>0</th>\n",
       "      <td>0.0</td>\n",
       "    </tr>\n",
       "    <tr>\n",
       "      <th>1</th>\n",
       "      <td>2.0</td>\n",
       "    </tr>\n",
       "    <tr>\n",
       "      <th>2</th>\n",
       "      <td>4.0</td>\n",
       "    </tr>\n",
       "    <tr>\n",
       "      <th>3</th>\n",
       "      <td>3.0</td>\n",
       "    </tr>\n",
       "    <tr>\n",
       "      <th>4</th>\n",
       "      <td>1.0</td>\n",
       "    </tr>\n",
       "  </tbody>\n",
       "</table>\n",
       "</div>"
      ]
     },
     "execution_count": 65,
     "metadata": {},
     "output_type": "execute_result"
    }
   ],
   "execution_count": 65
  },
  {
   "metadata": {
    "ExecuteTime": {
     "end_time": "2025-05-06T20:12:06.788195Z",
     "start_time": "2025-05-06T20:12:06.784686Z"
    }
   },
   "cell_type": "code",
   "source": [
    "index = df_test_encoded.index\n",
    "columns = df_test_encoded.columns"
   ],
   "id": "583f74913c37836e",
   "outputs": [],
   "execution_count": 66
  },
  {
   "metadata": {
    "ExecuteTime": {
     "end_time": "2025-05-06T20:12:06.829730Z",
     "start_time": "2025-05-06T20:12:06.824197Z"
    }
   },
   "cell_type": "code",
   "source": [
    "from sklearn.preprocessing import MinMaxScaler\n",
    "housing_num = housing_data.select_dtypes(include=[np.number])\n",
    "min_max_scaler = MinMaxScaler(feature_range=(-1, 1))\n",
    "housing_num_min_max = min_max_scaler.fit_transform(housing_num)"
   ],
   "id": "1a05cc2f79be414a",
   "outputs": [],
   "execution_count": 67
  },
  {
   "metadata": {
    "ExecuteTime": {
     "end_time": "2025-05-06T20:12:06.876740Z",
     "start_time": "2025-05-06T20:12:06.867487Z"
    }
   },
   "cell_type": "code",
   "source": "housing_num",
   "id": "8c8bd828f816a23d",
   "outputs": [
    {
     "data": {
      "text/plain": [
       "       longitude  latitude  housing_median_age  total_rooms  total_bedrooms  \\\n",
       "0        -122.23     37.88                41.0        880.0           129.0   \n",
       "1        -122.22     37.86                21.0       7099.0          1106.0   \n",
       "2        -122.24     37.85                52.0       1467.0           190.0   \n",
       "3        -122.25     37.85                52.0       1274.0           235.0   \n",
       "4        -122.25     37.85                52.0       1627.0           280.0   \n",
       "...          ...       ...                 ...          ...             ...   \n",
       "20635    -121.09     39.48                25.0       1665.0           374.0   \n",
       "20636    -121.21     39.49                18.0        697.0           150.0   \n",
       "20637    -121.22     39.43                17.0       2254.0           485.0   \n",
       "20638    -121.32     39.43                18.0       1860.0           409.0   \n",
       "20639    -121.24     39.37                16.0       2785.0           616.0   \n",
       "\n",
       "       population  households  median_income  median_house_value  \n",
       "0           322.0       126.0         8.3252            452600.0  \n",
       "1          2401.0      1138.0         8.3014            358500.0  \n",
       "2           496.0       177.0         7.2574            352100.0  \n",
       "3           558.0       219.0         5.6431            341300.0  \n",
       "4           565.0       259.0         3.8462            342200.0  \n",
       "...           ...         ...            ...                 ...  \n",
       "20635       845.0       330.0         1.5603             78100.0  \n",
       "20636       356.0       114.0         2.5568             77100.0  \n",
       "20637      1007.0       433.0         1.7000             92300.0  \n",
       "20638       741.0       349.0         1.8672             84700.0  \n",
       "20639      1387.0       530.0         2.3886             89400.0  \n",
       "\n",
       "[20433 rows x 9 columns]"
      ],
      "text/html": [
       "<div>\n",
       "<style scoped>\n",
       "    .dataframe tbody tr th:only-of-type {\n",
       "        vertical-align: middle;\n",
       "    }\n",
       "\n",
       "    .dataframe tbody tr th {\n",
       "        vertical-align: top;\n",
       "    }\n",
       "\n",
       "    .dataframe thead th {\n",
       "        text-align: right;\n",
       "    }\n",
       "</style>\n",
       "<table border=\"1\" class=\"dataframe\">\n",
       "  <thead>\n",
       "    <tr style=\"text-align: right;\">\n",
       "      <th></th>\n",
       "      <th>longitude</th>\n",
       "      <th>latitude</th>\n",
       "      <th>housing_median_age</th>\n",
       "      <th>total_rooms</th>\n",
       "      <th>total_bedrooms</th>\n",
       "      <th>population</th>\n",
       "      <th>households</th>\n",
       "      <th>median_income</th>\n",
       "      <th>median_house_value</th>\n",
       "    </tr>\n",
       "  </thead>\n",
       "  <tbody>\n",
       "    <tr>\n",
       "      <th>0</th>\n",
       "      <td>-122.23</td>\n",
       "      <td>37.88</td>\n",
       "      <td>41.0</td>\n",
       "      <td>880.0</td>\n",
       "      <td>129.0</td>\n",
       "      <td>322.0</td>\n",
       "      <td>126.0</td>\n",
       "      <td>8.3252</td>\n",
       "      <td>452600.0</td>\n",
       "    </tr>\n",
       "    <tr>\n",
       "      <th>1</th>\n",
       "      <td>-122.22</td>\n",
       "      <td>37.86</td>\n",
       "      <td>21.0</td>\n",
       "      <td>7099.0</td>\n",
       "      <td>1106.0</td>\n",
       "      <td>2401.0</td>\n",
       "      <td>1138.0</td>\n",
       "      <td>8.3014</td>\n",
       "      <td>358500.0</td>\n",
       "    </tr>\n",
       "    <tr>\n",
       "      <th>2</th>\n",
       "      <td>-122.24</td>\n",
       "      <td>37.85</td>\n",
       "      <td>52.0</td>\n",
       "      <td>1467.0</td>\n",
       "      <td>190.0</td>\n",
       "      <td>496.0</td>\n",
       "      <td>177.0</td>\n",
       "      <td>7.2574</td>\n",
       "      <td>352100.0</td>\n",
       "    </tr>\n",
       "    <tr>\n",
       "      <th>3</th>\n",
       "      <td>-122.25</td>\n",
       "      <td>37.85</td>\n",
       "      <td>52.0</td>\n",
       "      <td>1274.0</td>\n",
       "      <td>235.0</td>\n",
       "      <td>558.0</td>\n",
       "      <td>219.0</td>\n",
       "      <td>5.6431</td>\n",
       "      <td>341300.0</td>\n",
       "    </tr>\n",
       "    <tr>\n",
       "      <th>4</th>\n",
       "      <td>-122.25</td>\n",
       "      <td>37.85</td>\n",
       "      <td>52.0</td>\n",
       "      <td>1627.0</td>\n",
       "      <td>280.0</td>\n",
       "      <td>565.0</td>\n",
       "      <td>259.0</td>\n",
       "      <td>3.8462</td>\n",
       "      <td>342200.0</td>\n",
       "    </tr>\n",
       "    <tr>\n",
       "      <th>...</th>\n",
       "      <td>...</td>\n",
       "      <td>...</td>\n",
       "      <td>...</td>\n",
       "      <td>...</td>\n",
       "      <td>...</td>\n",
       "      <td>...</td>\n",
       "      <td>...</td>\n",
       "      <td>...</td>\n",
       "      <td>...</td>\n",
       "    </tr>\n",
       "    <tr>\n",
       "      <th>20635</th>\n",
       "      <td>-121.09</td>\n",
       "      <td>39.48</td>\n",
       "      <td>25.0</td>\n",
       "      <td>1665.0</td>\n",
       "      <td>374.0</td>\n",
       "      <td>845.0</td>\n",
       "      <td>330.0</td>\n",
       "      <td>1.5603</td>\n",
       "      <td>78100.0</td>\n",
       "    </tr>\n",
       "    <tr>\n",
       "      <th>20636</th>\n",
       "      <td>-121.21</td>\n",
       "      <td>39.49</td>\n",
       "      <td>18.0</td>\n",
       "      <td>697.0</td>\n",
       "      <td>150.0</td>\n",
       "      <td>356.0</td>\n",
       "      <td>114.0</td>\n",
       "      <td>2.5568</td>\n",
       "      <td>77100.0</td>\n",
       "    </tr>\n",
       "    <tr>\n",
       "      <th>20637</th>\n",
       "      <td>-121.22</td>\n",
       "      <td>39.43</td>\n",
       "      <td>17.0</td>\n",
       "      <td>2254.0</td>\n",
       "      <td>485.0</td>\n",
       "      <td>1007.0</td>\n",
       "      <td>433.0</td>\n",
       "      <td>1.7000</td>\n",
       "      <td>92300.0</td>\n",
       "    </tr>\n",
       "    <tr>\n",
       "      <th>20638</th>\n",
       "      <td>-121.32</td>\n",
       "      <td>39.43</td>\n",
       "      <td>18.0</td>\n",
       "      <td>1860.0</td>\n",
       "      <td>409.0</td>\n",
       "      <td>741.0</td>\n",
       "      <td>349.0</td>\n",
       "      <td>1.8672</td>\n",
       "      <td>84700.0</td>\n",
       "    </tr>\n",
       "    <tr>\n",
       "      <th>20639</th>\n",
       "      <td>-121.24</td>\n",
       "      <td>39.37</td>\n",
       "      <td>16.0</td>\n",
       "      <td>2785.0</td>\n",
       "      <td>616.0</td>\n",
       "      <td>1387.0</td>\n",
       "      <td>530.0</td>\n",
       "      <td>2.3886</td>\n",
       "      <td>89400.0</td>\n",
       "    </tr>\n",
       "  </tbody>\n",
       "</table>\n",
       "<p>20433 rows × 9 columns</p>\n",
       "</div>"
      ]
     },
     "execution_count": 68,
     "metadata": {},
     "output_type": "execute_result"
    }
   ],
   "execution_count": 68
  },
  {
   "metadata": {
    "ExecuteTime": {
     "end_time": "2025-05-06T20:12:06.936623Z",
     "start_time": "2025-05-06T20:12:06.933538Z"
    }
   },
   "cell_type": "code",
   "source": "housing_num_min_max",
   "id": "a6674507f698443c",
   "outputs": [
    {
     "data": {
      "text/plain": [
       "array([[-0.57768924,  0.13496281,  0.56862745, ..., -0.95888834,\n",
       "         0.07933684,  0.80453276],\n",
       "       [-0.57569721,  0.13071201, -0.21568627, ..., -0.62604835,\n",
       "         0.07605412,  0.41649313],\n",
       "       [-0.57968127,  0.12858661,  1.        , ..., -0.94211478,\n",
       "        -0.06794389,  0.39010148],\n",
       "       ...,\n",
       "       [-0.37649402,  0.46439957, -0.37254902, ..., -0.85791811,\n",
       "        -0.83447125, -0.6812343 ],\n",
       "       [-0.39641434,  0.46439957, -0.33333333, ..., -0.88554514,\n",
       "        -0.8114095 , -0.71257438],\n",
       "       [-0.38047809,  0.45164718, -0.41176471, ..., -0.82601546,\n",
       "        -0.73949325, -0.69319302]])"
      ]
     },
     "execution_count": 69,
     "metadata": {},
     "output_type": "execute_result"
    }
   ],
   "execution_count": 69
  },
  {
   "metadata": {},
   "cell_type": "markdown",
   "source": "",
   "id": "237030b5682150db"
  },
  {
   "metadata": {
    "ExecuteTime": {
     "end_time": "2025-05-06T20:12:06.990254Z",
     "start_time": "2025-05-06T20:12:06.985738Z"
    }
   },
   "cell_type": "code",
   "source": [
    "log_transform = FunctionTransformer(np.log, inverse_func=np.exp)\n",
    "log_population = log_transform.transform(train[['population']])"
   ],
   "id": "216ef4228b3769eb",
   "outputs": [],
   "execution_count": 70
  },
  {
   "metadata": {
    "ExecuteTime": {
     "end_time": "2025-05-06T20:12:07.038291Z",
     "start_time": "2025-05-06T20:12:07.033685Z"
    }
   },
   "cell_type": "code",
   "source": [
    "from sklearn.metrics.pairwise import rbf_kernel\n",
    "rbf_transformer = FunctionTransformer(rbf_kernel, kw_args=dict(Y=[[35.]], gamma=0.1))\n",
    "\n",
    "age_simil_35 = rbf_transformer.transform(train[['housing_median_age']])\n",
    "sf_coords = 37.7749, -122.41\n",
    "sf_transform = FunctionTransformer(rbf_kernel, kw_args=dict(Y=[sf_coords], gamma=0.1))\n",
    "sf_simil = sf_transform.transform(train[['latitude', 'longitude']])"
   ],
   "id": "be905b2a01fc76e2",
   "outputs": [],
   "execution_count": 71
  },
  {
   "metadata": {
    "ExecuteTime": {
     "end_time": "2025-05-06T20:12:07.129440Z",
     "start_time": "2025-05-06T20:12:07.110906Z"
    }
   },
   "cell_type": "code",
   "source": [
    "from cluster import *\n",
    "cluster_similarity = ClusterSimilarity(n_clusters=10, gamma=1., random_state=42)\n",
    "similarity = cluster_similarity.fit_transform(train[['latitude', 'longitude']])"
   ],
   "id": "b0c151f198603e54",
   "outputs": [
    {
     "name": "stderr",
     "output_type": "stream",
     "text": [
      "C:\\Users\\cohbe\\anaconda3\\Lib\\site-packages\\sklearn\\cluster\\_kmeans.py:1429: UserWarning: KMeans is known to have a memory leak on Windows with MKL, when there are less chunks than available threads. You can avoid it by setting the environment variable OMP_NUM_THREADS=16.\n",
      "  warnings.warn(\n"
     ]
    }
   ],
   "execution_count": 72
  },
  {
   "metadata": {
    "ExecuteTime": {
     "end_time": "2025-05-06T20:12:07.168636Z",
     "start_time": "2025-05-06T20:12:07.162593Z"
    }
   },
   "cell_type": "code",
   "source": "similarity",
   "id": "109b4229444f8ad2",
   "outputs": [
    {
     "data": {
      "text/plain": [
       "array([[8.00052491e-01, 2.32799591e-15, 1.52751953e-12, ...,\n",
       "        4.67424245e-18, 1.05314267e-02, 4.10323840e-20],\n",
       "       [1.11779639e-11, 9.07179526e-01, 4.06126602e-01, ...,\n",
       "        5.92297996e-02, 9.07160198e-06, 2.22226304e-01],\n",
       "       [5.70298327e-02, 2.64182980e-07, 3.04780647e-06, ...,\n",
       "        1.59984438e-10, 8.25427175e-01, 8.30121806e-11],\n",
       "       ...,\n",
       "       [5.65881215e-13, 9.95477694e-01, 3.24085148e-01, ...,\n",
       "        8.73111452e-02, 1.15027250e-06, 4.13002272e-01],\n",
       "       [9.85995978e-01, 1.27826060e-13, 4.87020518e-11, ...,\n",
       "        2.83945808e-16, 4.25985942e-02, 4.06166361e-18],\n",
       "       [3.55278297e-15, 8.13026654e-01, 1.64580457e-01, ...,\n",
       "        1.19678087e-01, 3.05539359e-08, 7.85659600e-01]])"
      ]
     },
     "execution_count": 73,
     "metadata": {},
     "output_type": "execute_result"
    }
   ],
   "execution_count": 73
  },
  {
   "metadata": {
    "ExecuteTime": {
     "end_time": "2025-05-06T20:12:41.743501Z",
     "start_time": "2025-05-06T20:12:41.740997Z"
    }
   },
   "cell_type": "code",
   "source": "",
   "id": "d6363092fe2c5479",
   "outputs": [],
   "execution_count": null
  }
 ],
 "metadata": {
  "kernelspec": {
   "display_name": "Python 3",
   "language": "python",
   "name": "python3"
  },
  "language_info": {
   "codemirror_mode": {
    "name": "ipython",
    "version": 2
   },
   "file_extension": ".py",
   "mimetype": "text/x-python",
   "name": "python",
   "nbconvert_exporter": "python",
   "pygments_lexer": "ipython2",
   "version": "2.7.6"
  }
 },
 "nbformat": 4,
 "nbformat_minor": 5
}
