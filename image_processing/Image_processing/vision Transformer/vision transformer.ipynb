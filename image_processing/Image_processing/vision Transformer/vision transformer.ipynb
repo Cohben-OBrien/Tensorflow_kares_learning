{
 "cells": [
  {
   "cell_type": "code",
   "id": "initial_id",
   "metadata": {
    "collapsed": true,
    "ExecuteTime": {
     "end_time": "2025-03-30T14:15:40.917073Z",
     "start_time": "2025-03-30T14:15:39.452603Z"
    }
   },
   "source": [
    "import os\n",
    "\n",
    "os.environ['CUDA_VISIBLE_DEVICES'] = 'jax'\n",
    "\n",
    "import tensorflow.keras as keras\n",
    "from keras import layers\n",
    "from keras import ops\n",
    "\n",
    "import numpy as np\n",
    "import matplotlib.pyplot as plt\n",
    "\n"
   ],
   "outputs": [
    {
     "name": "stderr",
     "output_type": "stream",
     "text": [
      "2025-03-30 15:15:39.637914: I tensorflow/core/util/port.cc:153] oneDNN custom operations are on. You may see slightly different numerical results due to floating-point round-off errors from different computation orders. To turn them off, set the environment variable `TF_ENABLE_ONEDNN_OPTS=0`.\n",
      "2025-03-30 15:15:39.648902: E external/local_xla/xla/stream_executor/cuda/cuda_fft.cc:467] Unable to register cuFFT factory: Attempting to register factory for plugin cuFFT when one has already been registered\n",
      "WARNING: All log messages before absl::InitializeLog() is called are written to STDERR\n",
      "E0000 00:00:1743344139.659110    4587 cuda_dnn.cc:8579] Unable to register cuDNN factory: Attempting to register factory for plugin cuDNN when one has already been registered\n",
      "E0000 00:00:1743344139.662157    4587 cuda_blas.cc:1407] Unable to register cuBLAS factory: Attempting to register factory for plugin cuBLAS when one has already been registered\n",
      "W0000 00:00:1743344139.670250    4587 computation_placer.cc:177] computation placer already registered. Please check linkage and avoid linking the same target more than once.\n",
      "W0000 00:00:1743344139.670270    4587 computation_placer.cc:177] computation placer already registered. Please check linkage and avoid linking the same target more than once.\n",
      "W0000 00:00:1743344139.670271    4587 computation_placer.cc:177] computation placer already registered. Please check linkage and avoid linking the same target more than once.\n",
      "W0000 00:00:1743344139.670272    4587 computation_placer.cc:177] computation placer already registered. Please check linkage and avoid linking the same target more than once.\n",
      "2025-03-30 15:15:39.673061: I tensorflow/core/platform/cpu_feature_guard.cc:210] This TensorFlow binary is optimized to use available CPU instructions in performance-critical operations.\n",
      "To enable the following instructions: AVX2 AVX_VNNI FMA, in other operations, rebuild TensorFlow with the appropriate compiler flags.\n"
     ]
    }
   ],
   "execution_count": 1
  },
  {
   "metadata": {
    "ExecuteTime": {
     "end_time": "2025-03-30T14:15:42.268370Z",
     "start_time": "2025-03-30T14:15:40.925216Z"
    }
   },
   "cell_type": "code",
   "source": [
    "num_classes = 100\n",
    "input_shape = (32, 32, 3)\n",
    "\n",
    "(x_train, y_train), (x_test, y_test) = keras.datasets.cifar10.load_data()\n",
    "\n",
    "print(f\"x_train shape: {x_train.shape} and y_train shape: {y_train.shape}\")\n",
    "print(f\"x_test shape: {x_test.shape} and y_test shape: {y_test.shape}\")"
   ],
   "id": "f02d858d9ded2797",
   "outputs": [
    {
     "name": "stdout",
     "output_type": "stream",
     "text": [
      "x_train shape: (50000, 32, 32, 3) and y_train shape: (50000, 1)\n",
      "x_test shape: (10000, 32, 32, 3) and y_test shape: (10000, 1)\n"
     ]
    }
   ],
   "execution_count": 2
  },
  {
   "metadata": {
    "ExecuteTime": {
     "end_time": "2025-03-30T14:15:42.354818Z",
     "start_time": "2025-03-30T14:15:42.352422Z"
    }
   },
   "cell_type": "code",
   "source": [
    "learning_rate = 0.001\n",
    "weight_decay = 0.0001\n",
    "batch_size = 256\n",
    "num_epochs = 10\n",
    "image_size = 72\n",
    "patch_size = 6\n",
    "num_patches = (image_size // patch_size) ** 2\n",
    "projection_dim = 64\n",
    "num_heads = 4\n",
    "transformer_units = [\n",
    "    projection_dim * 2,\n",
    "    projection_dim\n",
    "]\n",
    "transformer_layers = 8\n",
    "mlp_head_units = [\n",
    "    2048, 1024\n",
    "]\n"
   ],
   "id": "464a1d8e53c5c1d0",
   "outputs": [],
   "execution_count": 3
  },
  {
   "metadata": {
    "ExecuteTime": {
     "end_time": "2025-03-30T14:15:43.187169Z",
     "start_time": "2025-03-30T14:15:42.399764Z"
    }
   },
   "cell_type": "code",
   "source": [
    "data_augmentation = keras.Sequential([\n",
    "    layers.Normalization(),\n",
    "    layers.Resizing(image_size, image_size),\n",
    "    layers.RandomFlip(\"horizontal\"),\n",
    "    layers.RandomRotation(factor=0.02),\n",
    "    layers.RandomZoom(height_factor=0.02, width_factor=0.02),\n",
    "], name=\"data_augmentation\")\n",
    "data_augmentation.layers[0].adapt(x_train)"
   ],
   "id": "70e0c6dad838aebf",
   "outputs": [
    {
     "name": "stderr",
     "output_type": "stream",
     "text": [
      "2025-03-30 15:15:42.460911: E external/local_xla/xla/stream_executor/cuda/cuda_platform.cc:51] failed call to cuInit: INTERNAL: CUDA error: Failed call to cuInit: CUDA_ERROR_NO_DEVICE: no CUDA-capable device is detected\n"
     ]
    }
   ],
   "execution_count": 4
  },
  {
   "metadata": {
    "ExecuteTime": {
     "end_time": "2025-03-30T14:15:43.197913Z",
     "start_time": "2025-03-30T14:15:43.195722Z"
    }
   },
   "cell_type": "code",
   "source": [
    "def mlp(x, hidden_units, dropout_rate):\n",
    "    for units in hidden_units:\n",
    "        x = layers.Dense(units, activation=keras.activations.gelu)(x)\n",
    "        x = layers.Dropout(dropout_rate)(x)\n",
    "    return x"
   ],
   "id": "b58ea79a5e14757e",
   "outputs": [],
   "execution_count": 5
  },
  {
   "metadata": {
    "ExecuteTime": {
     "end_time": "2025-03-30T14:15:43.252517Z",
     "start_time": "2025-03-30T14:15:43.248406Z"
    }
   },
   "cell_type": "code",
   "source": [
    "class Patches(layers.Layer):\n",
    "    def __init__(self, num_patches):\n",
    "        super().__init__()\n",
    "        self.patch_size = num_patches\n",
    "\n",
    "    def call(self, images):\n",
    "        input_shape = ops.shape(images)\n",
    "        batch_size = input_shape[0]\n",
    "        height = input_shape[1]\n",
    "        width = input_shape[2]\n",
    "        channels = input_shape[3]\n",
    "        num_patches_h = height // self.patch_size\n",
    "        num_patches_w = width // self.patch_size\n",
    "        patches = keras.ops.image.extract_patches(images, size=self.patch_size)\n",
    "        patches = ops.reshape(\n",
    "            patches,\n",
    "            (\n",
    "                batch_size,\n",
    "                num_patches_h * num_patches_w,\n",
    "                self.patch_size * self.patch_size * channels,\n",
    "            )\n",
    "        )\n",
    "        return patches\n",
    "\n",
    "    def get_config(self):\n",
    "        config = super().get_config()\n",
    "        config.update({\"patch_size\": self.patch_size})\n",
    "        return config"
   ],
   "id": "663462abfd1d1618",
   "outputs": [],
   "execution_count": 6
  },
  {
   "metadata": {
    "ExecuteTime": {
     "end_time": "2025-03-30T14:15:44.305302Z",
     "start_time": "2025-03-30T14:15:43.299103Z"
    }
   },
   "cell_type": "code",
   "source": [
    "plt.figure(figsize=(4,4))\n",
    "image = x_train[np.random.choice(range(x_train.shape[0]))]\n",
    "plt.imshow(image)\n",
    "plt.axis('off')\n",
    "\n",
    "resized_image = ops.image.resize(\n",
    "    ops.convert_to_tensor([image]),\n",
    "    size=(image_size, image_size),\n",
    ")\n",
    "\n",
    "patches = Patches(patch_size)(resized_image)\n",
    "print(f\"Image size: {image_size} X {image_size}\")\n",
    "print(f\"Patch size: {patch_size} X {patch_size}\")\n",
    "print(f\"Number of patches per images: {patches.shape[1]}\")\n",
    "print(f\"Elements per patch: {patches.shape[-1]}\")\n",
    "\n",
    "n = int(np.sqrt(patches.shape[1]))\n",
    "plt.figure(figsize=(4,4))\n",
    "for i, patch in enumerate(patches[0]):\n",
    "    ax = plt.subplot(n, n, i + 1)\n",
    "    patch_img = ops.reshape(patch, (patch_size, patch_size, 3))\n",
    "    plt.imshow(ops.convert_to_numpy(patch_img).astype(\"uint8\"))\n",
    "    plt.axis('off')\n"
   ],
   "id": "ed7d60c4a2f4bf39",
   "outputs": [
    {
     "name": "stdout",
     "output_type": "stream",
     "text": [
      "Image size: 72 X 72\n",
      "Patch size: 6 X 6\n",
      "Number of patches per images: 144\n",
      "Elements per patch: 108\n"
     ]
    },
    {
     "data": {
      "text/plain": [
       "<Figure size 400x400 with 1 Axes>"
      ],
      "image/png": "[encoded data removed]"
     },
     "metadata": {},
     "output_type": "display_data"
    },
    {
     "data": {
      "text/plain": [
       "<Figure size 400x400 with 144 Axes>"
      ],
      "image/png": "[encoded data removed]"
     },
     "metadata": {},
     "output_type": "display_data"
    }
   ],
   "execution_count": 7
  },
  {
   "metadata": {
    "ExecuteTime": {
     "end_time": "2025-03-30T14:15:44.317275Z",
     "start_time": "2025-03-30T14:15:44.314144Z"
    }
   },
   "cell_type": "code",
   "source": [
    "class PatchEncoder(layers.Layer):\n",
    "    def __init__(self, num_patches, projection_dim):\n",
    "        super().__init__()\n",
    "        self.num_patches = num_patches\n",
    "        self.projection = layers.Dense(units=projection_dim)\n",
    "        self.postition_embedding = layers.Embedding(\n",
    "            input_dim=num_patches, output_dim=projection_dim\n",
    "        )\n",
    "\n",
    "    def call(self, patch):\n",
    "        postitons = ops.expand_dims(\n",
    "            ops.arange(start=0, stop=self.num_patches, step=1), axis=0\n",
    "        )\n",
    "        projection_patches = self.projection(patch)\n",
    "        encoded = projection_patches + self.postition_embedding(postitons)\n",
    "        return encoded\n",
    "\n",
    "    def get_config(self):\n",
    "        config = super().get_config()\n",
    "        config.update({\"num_patches\": self.num_patches})\n",
    "        return config\n",
    "\n",
    "\n"
   ],
   "id": "c1f2eba1db55e397",
   "outputs": [],
   "execution_count": 8
  },
  {
   "metadata": {
    "ExecuteTime": {
     "end_time": "2025-03-30T14:15:44.370023Z",
     "start_time": "2025-03-30T14:15:44.366856Z"
    }
   },
   "cell_type": "code",
   "source": [
    "def create_vit_classifier():\n",
    "    inputs = keras.Input(shape=input_shape)\n",
    "\n",
    "    augmentation = data_augmentation(inputs)\n",
    "\n",
    "    patches = Patches(patch_size)(augmentation)\n",
    "\n",
    "    encoded_patches = PatchEncoder(num_patches, projection_dim)(patches)\n",
    "\n",
    "    for _ in range(transformer_layers):\n",
    "        x1 = layers.LayerNormalization(epsilon=1e-6)(encoded_patches)\n",
    "        attention_output = layers.MultiHeadAttention(\n",
    "            num_heads=num_heads,\n",
    "            key_dim=projection_dim,\n",
    "            dropout=0.1\n",
    "        ) (x1, x1)\n",
    "\n",
    "        x2 = layers.Add()([attention_output, encoded_patches])\n",
    "        x3 = layers.LayerNormalization(epsilon=1e-6)(x2)\n",
    "        x3 = mlp(x3, hidden_units=transformer_units, dropout_rate=0.1)\n",
    "        encoded_patches = layers.Add()([x3, x2])\n",
    "\n",
    "    representation = layers.LayerNormalization(epsilon=1e-6)(encoded_patches)\n",
    "    representation = layers.Flatten()(representation)\n",
    "    representation = layers.Dropout(0.5)(representation)\n",
    "\n",
    "    features = mlp(representation, hidden_units=mlp_head_units, dropout_rate=0.5)\n",
    "\n",
    "    logits = layers.Dense(num_classes)(features)\n",
    "\n",
    "    model = keras.Model(inputs=inputs, outputs=logits)\n",
    "    return model\n",
    "\n",
    "\n"
   ],
   "id": "37a3e6d7bc783149",
   "outputs": [],
   "execution_count": 9
  },
  {
   "metadata": {
    "ExecuteTime": {
     "end_time": "2025-03-30T15:03:19.300336Z",
     "start_time": "2025-03-30T14:15:44.418681Z"
    }
   },
   "cell_type": "code",
   "source": [
    "def run_experiment(model):\n",
    "    optimizer = keras.optimizers.AdamW(\n",
    "        learning_rate=learning_rate, weight_decay=weight_decay\n",
    "    )\n",
    "\n",
    "    model.compile(\n",
    "        optimizer=optimizer,\n",
    "        loss=keras.losses.SparseCategoricalCrossentropy(from_logits=True),\n",
    "        metrics=[\n",
    "            keras.metrics.SparseCategoricalAccuracy(name=\"accuracy\"),\n",
    "            keras.metrics.SparseTopKCategoricalAccuracy(5, name=\"top-5-accuracy\"),\n",
    "        ],\n",
    "    )\n",
    "\n",
    "    checkpoint_filepath = \"./tmp/checkpoint.weights.h5\"\n",
    "    checkpoint_callback = keras.callbacks.ModelCheckpoint(\n",
    "        checkpoint_filepath,\n",
    "        monitor=\"val_accuracy\",\n",
    "        save_best_only=True,\n",
    "        save_weights_only=True,\n",
    "    )\n",
    "\n",
    "    history = model.fit(\n",
    "        x=x_train,\n",
    "        y=y_train,\n",
    "        batch_size=batch_size,\n",
    "        epochs=num_epochs,\n",
    "        validation_split=0.1,\n",
    "        callbacks=[checkpoint_callback],\n",
    "    )\n",
    "\n",
    "    model.load_weights(checkpoint_filepath)\n",
    "    _, accuracy, top_5_accuracy = model.evaluate(x_test, y_test)\n",
    "    print(f\"Accuracy: {accuracy}\")\n",
    "    print(f\"Top 5 accuracy: {round(top_5_accuracy * 100, 2)}%\")\n",
    "\n",
    "    return history\n",
    "\n",
    "vit_model = create_vit_classifier()\n",
    "history = run_experiment(vit_model)#\n",
    "\n",
    "def plot_history(item):\n",
    "    plt.plot(history.history[item], label=item)\n",
    "    plt.plot(history.history[\"val_\" + item], label=\"val_\" + item)\n",
    "    plt.xlabel(\"Epoch\")\n",
    "    plt.ylabel(item)\n",
    "    plt.title(\"Train and Validation {} over epochs\".format(item))\n",
    "\n",
    "plot_history(\"loss\")\n",
    "plot_history(\"top-5-accuracy\")"
   ],
   "id": "9756997197263cd4",
   "outputs": [
    {
     "name": "stdout",
     "output_type": "stream",
     "text": [
      "Epoch 1/10\n",
      "\u001B[1m176/176\u001B[0m \u001B[32m━━━━━━━━━━━━━━━━━━━━\u001B[0m\u001B[37m\u001B[0m \u001B[1m312s\u001B[0m 2s/step - accuracy: 0.2657 - loss: 2.7362 - top-5-accuracy: 0.7371 - val_accuracy: 0.4780 - val_loss: 1.4426 - val_top-5-accuracy: 0.9262\n",
      "Epoch 2/10\n",
      "\u001B[1m176/176\u001B[0m \u001B[32m━━━━━━━━━━━━━━━━━━━━\u001B[0m\u001B[37m\u001B[0m \u001B[1m302s\u001B[0m 2s/step - accuracy: 0.4529 - loss: 1.5169 - top-5-accuracy: 0.9069 - val_accuracy: 0.5656 - val_loss: 1.2321 - val_top-5-accuracy: 0.9452\n",
      "Epoch 3/10\n",
      "\u001B[1m176/176\u001B[0m \u001B[32m━━━━━━━━━━━━━━━━━━━━\u001B[0m\u001B[37m\u001B[0m \u001B[1m288s\u001B[0m 2s/step - accuracy: 0.5168 - loss: 1.3418 - top-5-accuracy: 0.9356 - val_accuracy: 0.6020 - val_loss: 1.1353 - val_top-5-accuracy: 0.9600\n",
      "Epoch 4/10\n",
      "\u001B[1m176/176\u001B[0m \u001B[32m━━━━━━━━━━━━━━━━━━━━\u001B[0m\u001B[37m\u001B[0m \u001B[1m281s\u001B[0m 2s/step - accuracy: 0.5617 - loss: 1.2275 - top-5-accuracy: 0.9489 - val_accuracy: 0.6258 - val_loss: 1.0521 - val_top-5-accuracy: 0.9676\n",
      "Epoch 5/10\n",
      "\u001B[1m176/176\u001B[0m \u001B[32m━━━━━━━━━━━━━━━━━━━━\u001B[0m\u001B[37m\u001B[0m \u001B[1m275s\u001B[0m 2s/step - accuracy: 0.5960 - loss: 1.1444 - top-5-accuracy: 0.9571 - val_accuracy: 0.6678 - val_loss: 0.9590 - val_top-5-accuracy: 0.9736\n",
      "Epoch 6/10\n",
      "\u001B[1m176/176\u001B[0m \u001B[32m━━━━━━━━━━━━━━━━━━━━\u001B[0m\u001B[37m\u001B[0m \u001B[1m265s\u001B[0m 2s/step - accuracy: 0.6179 - loss: 1.0757 - top-5-accuracy: 0.9603 - val_accuracy: 0.6600 - val_loss: 0.9629 - val_top-5-accuracy: 0.9716\n",
      "Epoch 7/10\n",
      "\u001B[1m176/176\u001B[0m \u001B[32m━━━━━━━━━━━━━━━━━━━━\u001B[0m\u001B[37m\u001B[0m \u001B[1m269s\u001B[0m 2s/step - accuracy: 0.6376 - loss: 1.0322 - top-5-accuracy: 0.9640 - val_accuracy: 0.6830 - val_loss: 0.8895 - val_top-5-accuracy: 0.9746\n",
      "Epoch 8/10\n",
      "\u001B[1m176/176\u001B[0m \u001B[32m━━━━━━━━━━━━━━━━━━━━\u001B[0m\u001B[37m\u001B[0m \u001B[1m268s\u001B[0m 2s/step - accuracy: 0.6542 - loss: 0.9836 - top-5-accuracy: 0.9691 - val_accuracy: 0.6990 - val_loss: 0.8643 - val_top-5-accuracy: 0.9772\n",
      "Epoch 9/10\n",
      "\u001B[1m176/176\u001B[0m \u001B[32m━━━━━━━━━━━━━━━━━━━━\u001B[0m\u001B[37m\u001B[0m \u001B[1m267s\u001B[0m 2s/step - accuracy: 0.6733 - loss: 0.9245 - top-5-accuracy: 0.9733 - val_accuracy: 0.7068 - val_loss: 0.8382 - val_top-5-accuracy: 0.9802\n",
      "Epoch 10/10\n",
      "\u001B[1m176/176\u001B[0m \u001B[32m━━━━━━━━━━━━━━━━━━━━\u001B[0m\u001B[37m\u001B[0m \u001B[1m294s\u001B[0m 2s/step - accuracy: 0.6858 - loss: 0.8959 - top-5-accuracy: 0.9740 - val_accuracy: 0.7254 - val_loss: 0.8022 - val_top-5-accuracy: 0.9814\n",
      "\u001B[1m313/313\u001B[0m \u001B[32m━━━━━━━━━━━━━━━━━━━━\u001B[0m\u001B[37m\u001B[0m \u001B[1m34s\u001B[0m 107ms/step - accuracy: 0.7122 - loss: 0.8234 - top-5-accuracy: 0.9787\n",
      "Accuracy: 0.7128000259399414\n",
      "Top 5 accuracy: 97.91%\n"
     ]
    },
    {
     "data": {
      "text/plain": [
       "<Figure size 640x480 with 1 Axes>"
      ],
      "image/png": "[encoded data removed]"
     },
     "metadata": {},
     "output_type": "display_data"
    }
   ],
   "execution_count": 10
  }
 ],
 "metadata": {
  "kernelspec": {
   "display_name": "Python 3",
   "language": "python",
   "name": "python3"
  },
  "language_info": {
   "codemirror_mode": {
    "name": "ipython",
    "version": 2
   },
   "file_extension": ".py",
   "mimetype": "text/x-python",
   "name": "python",
   "nbconvert_exporter": "python",
   "pygments_lexer": "ipython2",
   "version": "2.7.6"
  }
 },
 "nbformat": 4,
 "nbformat_minor": 5
}
